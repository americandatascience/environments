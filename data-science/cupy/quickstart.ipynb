{
 "cells": [
  {
   "cell_type": "markdown",
   "id": "e40223ba-4f37-450f-92a4-eec4c2721468",
   "metadata": {},
   "source": [
    "# CuPy Quick start\n",
    "\n",
    "A notebook on teh basics of CuPy from their [documentation site](https://docs.cupy.dev/en/stable/user_guide/basic.html)"
   ]
  },
  {
   "cell_type": "markdown",
   "id": "32de4655-0ca0-472b-95ee-0dcc15cda056",
   "metadata": {},
   "source": [
    "## Basics of CuPy\n",
    "\n",
    "In this section, you will learn about the following things:\n",
    "\n",
    "    Basics of cupy.ndarray\n",
    "\n",
    "    The concept of current device\n",
    "\n",
    "    host-device and device-device array transfer\n",
    "\n",
    "Basics of cupy.ndarray\n",
    "CuPy is a GPU array backend that implements a subset of NumPy interface. In the following code, cp is an abbreviation of cupy, following the standard convention of abbreviating numpy as np:"
   ]
  },
  {
   "cell_type": "markdown",
   "id": "8c13a390-48dd-4390-87f6-b7ed21576ca3",
   "metadata": {},
   "source": [
    "### Basics of cupy.ndarray\n",
    "CuPy is a GPU array backend that implements a subset of NumPy interface. In the following code, cp is an abbreviation of cupy, following the standard convention of abbreviating numpy as np:"
   ]
  },
  {
   "cell_type": "code",
   "execution_count": null,
   "id": "38ffc858-230f-419c-b6d0-9f9fb6fa6abe",
   "metadata": {},
   "outputs": [],
   "source": [
    "import numpy as np\n",
    "import cupy as cp"
   ]
  },
  {
   "cell_type": "markdown",
   "id": "c06a7bb6-98ab-49be-98f4-1b2559dde957",
   "metadata": {},
   "source": [
    "The cupy.ndarray class is at the core of CuPy and is a replacement class for NumPy’s numpy.ndarray."
   ]
  },
  {
   "cell_type": "code",
   "execution_count": null,
   "id": "0ea6e73a-18e7-4581-b377-f752652af01b",
   "metadata": {},
   "outputs": [],
   "source": [
    "x_gpu = cp.array([1, 2, 3])"
   ]
  },
  {
   "cell_type": "markdown",
   "id": "09096388-dc4e-4ae8-9c6f-cbc87988a56b",
   "metadata": {},
   "source": [
    "x_gpu above is an instance of cupy.ndarray. As one can see, CuPy’s syntax here is identical to that of NumPy. The main difference between cupy.ndarray and numpy.ndarray is that the CuPy arrays are allocated on the current device, which we will talk about later.\n",
    "\n",
    "Most of the array manipulations are also done in the way similar to NumPy. Take the Euclidean norm (a.k.a L2 norm), for example. NumPy has numpy.linalg.norm() function that calculates it on CPU."
   ]
  },
  {
   "cell_type": "code",
   "execution_count": null,
   "id": "649f377a-58f0-4a8e-8b40-fb128a71f508",
   "metadata": {},
   "outputs": [],
   "source": [
    "x_cpu = np.array([1, 2, 3])\n",
    "l2_cpu = np.linalg.norm(x_cpu)"
   ]
  },
  {
   "cell_type": "markdown",
   "id": "1ba27b1c-5a3e-427c-b6d5-f6a9de7ca2ab",
   "metadata": {},
   "source": [
    "Using CuPy, we can perform the same calculations on GPU in a similar way:"
   ]
  },
  {
   "cell_type": "code",
   "execution_count": null,
   "id": "715cf84a-82f4-414d-9b85-1b467070b240",
   "metadata": {},
   "outputs": [],
   "source": [
    "x_gpu = cp.array([1, 2, 3])\n",
    "l2_gpu = cp.linalg.norm(x_gpu)"
   ]
  },
  {
   "cell_type": "markdown",
   "id": "75a65650-d598-4e54-b657-2aa572732fe1",
   "metadata": {},
   "source": [
    "CuPy implements many functions on cupy.ndarray objects. See the reference for the supported subset of NumPy API. Knowledge of NumPy will help you utilize most of the CuPy features. We, therefore, recommend you familiarize yourself with the NumPy documentation."
   ]
  },
  {
   "cell_type": "markdown",
   "id": "be5010fa-d92f-4014-be3c-ea6f0c8c4180",
   "metadata": {},
   "source": [
    "### Current Device\n",
    "CuPy has a concept of a current device, which is the default GPU device on which the allocation, manipulation, calculation, etc., of arrays take place. Suppose ID of the current device is 0. In such a case, the following code would create an array x_on_gpu0 on GPU 0."
   ]
  },
  {
   "cell_type": "code",
   "execution_count": null,
   "id": "ad7c4d01-73f0-46c0-bc17-463394d88126",
   "metadata": {},
   "outputs": [],
   "source": [
    "x_on_gpu0 = cp.array([1, 2, 3, 4, 5])"
   ]
  },
  {
   "cell_type": "markdown",
   "id": "5187060d-a57e-433e-a858-a2866ef8a696",
   "metadata": {},
   "source": [
    "To switch to another GPU device, use the Device context manager:"
   ]
  },
  {
   "cell_type": "code",
   "execution_count": null,
   "id": "53c8280c-7800-4107-8823-3a0a4426077a",
   "metadata": {},
   "outputs": [],
   "source": [
    "with cp.cuda.Device(0):\n",
    "   x_on_gpu1 = cp.array([1, 2, 3, 4, 5])\n",
    "x_on_gpu0 = cp.array([1, 2, 3, 4, 5])"
   ]
  },
  {
   "cell_type": "markdown",
   "id": "a5fcadea-7ea6-4cb8-bac7-c1b2ba9a4a89",
   "metadata": {},
   "source": [
    "All CuPy operations (except for multi-GPU features and device-to-device copy) are performed on the currently active device.\n",
    "\n",
    "In general, CuPy functions expect that the array is on the same device as the current one. Passing an array stored on a non-current device may work depending on the hardware configuration but is generally discouraged as it may not be performant."
   ]
  },
  {
   "cell_type": "markdown",
   "id": "845330e2-99cb-4d67-9c30-a82df64e10db",
   "metadata": {},
   "source": [
    "All CuPy operations (except for multi-GPU features and device-to-device copy) are performed on the currently active device.\n",
    "\n",
    "In general, CuPy functions expect that the array is on the same device as the current one. Passing an array stored on a non-current device may work depending on the hardware configuration but is generally discouraged as it may not be performant.\n",
    "\n",
    "**Note**:\n",
    "  - If the array’s device and the current device mismatch, CuPy functions try to establish peer-to-peer memory access (P2P) between them so that the current device can directly read the array from another device. Note that P2P is available only when the topology permits it. If P2P is unavailable, such an attempt will fail with ValueError.\n",
    "\n",
    "cupy.ndarray.device attribute indicates the device on which the array is allocated."
   ]
  },
  {
   "cell_type": "code",
   "execution_count": null,
   "id": "42919fdb-2ec6-4f54-9075-c54554c5af66",
   "metadata": {},
   "outputs": [],
   "source": [
    "with cp.cuda.Device(0):\n",
    "   x = cp.array([1, 2, 3, 4, 5])\n",
    "x.device"
   ]
  },
  {
   "cell_type": "markdown",
   "id": "40c50554-265a-40d9-a84d-065856aa7fbb",
   "metadata": {},
   "source": [
    "**Note**\n",
    "  - When only one device is available, explicit device switching is not needed.\n"
   ]
  },
  {
   "cell_type": "markdown",
   "id": "72961a0b-2df8-49a8-a693-53ecacac137b",
   "metadata": {},
   "source": [
    "### Current Stream\n",
    "\n",
    "Associated with the concept of current devices are current streams, which help avoid explicitly passing streams in every single operation so as to keep the APIs pythonic and user-friendly. In CuPy, all CUDA operations such as data transfer (see the Data Transfer section) and kernel launches are enqueued onto the current stream, and the queued tasks on the same stream will be executed in serial (but asynchronously with respect to the host).\n",
    "\n",
    "The default current stream in CuPy is CUDA’s null stream (i.e., stream 0). It is also known as the legacy default stream, which is unique per device. However, it is possible to change the current stream using the cupy.cuda.Stream API, please see Accessing CUDA Functionalities for example. The current stream in CuPy can be retrieved using cupy.cuda.get_current_stream().\n",
    "\n",
    "It is worth noting that CuPy’s current stream is managed on a per thread, per device basis, meaning that on different Python threads or different devices the current stream (if not the null stream) can be different."
   ]
  },
  {
   "cell_type": "markdown",
   "id": "9ee3cc13-6d54-4d37-ba40-32411d503942",
   "metadata": {},
   "source": [
    "### Data Transfer\n",
    "\n",
    "#### Move arrays to a device\n",
    "cupy.asarray() can be used to move a numpy.ndarray, a list, or any object that can be passed to numpy.array() to the current device:"
   ]
  },
  {
   "cell_type": "code",
   "execution_count": null,
   "id": "cd2aa97a-3287-4095-baf5-0a65b2a54015",
   "metadata": {},
   "outputs": [],
   "source": [
    "x_cpu = np.array([1, 2, 3])\n",
    "x_gpu = cp.asarray(x_cpu)  # move the data to the current device."
   ]
  },
  {
   "cell_type": "markdown",
   "id": "9d89cd4b-4e98-44d4-8d76-e4284bb46f31",
   "metadata": {},
   "source": [
    "cupy.asarray() can accept cupy.ndarray, which means we can transfer the array between devices with this function."
   ]
  },
  {
   "cell_type": "code",
   "execution_count": null,
   "id": "73973b39-b61a-4093-a6ee-d58bf4c05143",
   "metadata": {},
   "outputs": [],
   "source": [
    "with cp.cuda.Device(0):\n",
    "    x_gpu_0 = cp.ndarray([1, 2, 3])  # create an array in GPU 0\n",
    "with cp.cuda.Device(1):\n",
    "    x_gpu_1 = cp.asarray(x_gpu_0)  # move the array to GPU 1"
   ]
  },
  {
   "cell_type": "markdown",
   "id": "96802560-4b41-4e1e-9f1d-a3db9b99fb94",
   "metadata": {},
   "source": [
    "**Note**\n",
    "\n",
    "- cupy.asarray() does not copy the input array if possible. So, if you put an array of the current device, it returns the input object itself.\n",
    "\n",
    "- If we do copy the array in this situation, you can use cupy.array() with copy=True. Actually cupy.asarray() is equivalent to cupy.array(arr, dtype, copy=False).\n"
   ]
  },
  {
   "cell_type": "markdown",
   "id": "20264fff-d818-4baf-aee8-3fd8f84174df",
   "metadata": {},
   "source": [
    "#### Move array from a device to the host\n",
    "Moving a device array to the host can be done by cupy.asnumpy() as follows:"
   ]
  },
  {
   "cell_type": "code",
   "execution_count": null,
   "id": "9f2b44a3-4f44-4717-ba3d-c1e17a894647",
   "metadata": {},
   "outputs": [],
   "source": [
    "x_gpu = cp.array([1, 2, 3])  # create an array in the current device\n",
    "x_cpu = cp.asnumpy(x_gpu)  # move the array to the host."
   ]
  },
  {
   "cell_type": "markdown",
   "id": "037d3049-5218-4d58-b5a7-a55c6cd75fa4",
   "metadata": {},
   "source": [
    "We can also use cupy.ndarray.get():"
   ]
  },
  {
   "cell_type": "code",
   "execution_count": null,
   "id": "27edb609-4693-4ee2-90b3-cb3bc72edcaa",
   "metadata": {},
   "outputs": [],
   "source": [
    "x_cpu = x_gpu.get()"
   ]
  },
  {
   "cell_type": "markdown",
   "id": "ac7bbe95-e8e7-4848-860d-75e7c235f233",
   "metadata": {},
   "source": [
    "### Memory management\n",
    "Check Memory Management for a detailed description of how memory is managed in CuPy using memory pools."
   ]
  },
  {
   "cell_type": "markdown",
   "id": "8bf0cf5e-1c96-41bb-85cc-6488d8664dc8",
   "metadata": {},
   "source": [
    "### How to write CPU/GPU agnostic code\n",
    "CuPy’s compatibility with NumPy makes it possible to write CPU/GPU agnostic code. For this purpose, CuPy implements the cupy.get_array_module() function that returns a reference to cupy if any of its arguments resides on a GPU and numpy otherwise. Here is an example of a CPU/GPU agnostic function that computes log1p:"
   ]
  },
  {
   "cell_type": "code",
   "execution_count": null,
   "id": "afe9993d-c74a-45a0-896a-bd90271366fa",
   "metadata": {},
   "outputs": [],
   "source": [
    "# Stable implementation of log(1 + exp(x))\n",
    "def softplus(x):\n",
    "    xp = cp.get_array_module(x)  # 'xp' is a standard usage in the community\n",
    "    print(\"Using:\", xp.__name__)\n",
    "    return xp.maximum(0, x) + xp.log1p(xp.exp(-abs(x)))"
   ]
  },
  {
   "cell_type": "markdown",
   "id": "78369315-b1c1-47aa-aac9-c5e8be0c53db",
   "metadata": {},
   "source": [
    "When you need to manipulate CPU and GPU arrays, an explicit data transfer may be required to move them to the same location – either CPU or GPU. For this purpose, CuPy implements two sister methods called cupy.asnumpy() and cupy.asarray(). Here is an example that demonstrates the use of both methods:"
   ]
  },
  {
   "cell_type": "code",
   "execution_count": null,
   "id": "bee4461d-1724-4174-bd6a-62b19914fe94",
   "metadata": {},
   "outputs": [],
   "source": [
    "x_cpu = np.array([1, 2, 3])\n",
    "y_cpu = np.array([4, 5, 6])\n",
    "x_cpu + y_cpu"
   ]
  },
  {
   "cell_type": "code",
   "execution_count": null,
   "id": "52cfa465-dc57-4732-9f21-f1bba02d4e7d",
   "metadata": {},
   "outputs": [],
   "source": [
    "x_gpu = cp.asarray(x_cpu)\n",
    "x_gpu + y_cpu"
   ]
  },
  {
   "cell_type": "code",
   "execution_count": null,
   "id": "b2aa6e82-30c2-48aa-9812-cd86c4935517",
   "metadata": {},
   "outputs": [],
   "source": [
    "cp.asnumpy(x_gpu) + y_cpu"
   ]
  },
  {
   "cell_type": "code",
   "execution_count": null,
   "id": "8a9e3f8e-770e-4fa5-a033-50ce80be0915",
   "metadata": {},
   "outputs": [],
   "source": [
    "cp.asnumpy(x_gpu) + cp.asnumpy(y_cpu)"
   ]
  },
  {
   "cell_type": "code",
   "execution_count": null,
   "id": "5859985d-528d-4df7-9e51-6be796bd2272",
   "metadata": {},
   "outputs": [],
   "source": [
    "x_gpu + cp.asarray(y_cpu)"
   ]
  },
  {
   "cell_type": "code",
   "execution_count": null,
   "id": "917e5362-18c2-457c-93a5-7c024a3fe63a",
   "metadata": {},
   "outputs": [],
   "source": [
    "cp.asarray(x_gpu) + cp.asarray(y_cpu)"
   ]
  },
  {
   "cell_type": "markdown",
   "id": "20f3613b-b916-443e-b18b-88dcbd6c081f",
   "metadata": {},
   "source": [
    "The cupy.asnumpy() method returns a NumPy array (array on the host), whereas cupy.asarray() method returns a CuPy array (array on the current device). Both methods can accept arbitrary input, meaning that they can be applied to any data that is located on either the host or device and can be converted to an array."
   ]
  }
 ],
 "metadata": {
  "kernelspec": {
   "display_name": "Python 3 (ipykernel)",
   "language": "python",
   "name": "python3"
  },
  "language_info": {
   "codemirror_mode": {
    "name": "ipython",
    "version": 3
   },
   "file_extension": ".py",
   "mimetype": "text/x-python",
   "name": "python",
   "nbconvert_exporter": "python",
   "pygments_lexer": "ipython3",
   "version": "3.11.8"
  }
 },
 "nbformat": 4,
 "nbformat_minor": 5
}

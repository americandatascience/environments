{
 "cells": [
  {
   "cell_type": "markdown",
   "id": "9e53136d-cfca-4a7a-9afd-c65d2b41288d",
   "metadata": {},
   "source": [
    "# Faiss Quickstart\n",
    "\n",
    "A tutorial from the [faiss repository](https://github.com/facebookresearch/faiss/blob/main/tutorial/python/4-GPU.py).\n",
    "\n",
    "A straight forward example of creating your own GPU-powered vector database using faiss."
   ]
  },
  {
   "cell_type": "code",
   "execution_count": 2,
   "id": "600423f9-c07e-4165-bbd5-281d870b28ef",
   "metadata": {},
   "outputs": [
    {
     "name": "stdout",
     "output_type": "stream",
     "text": [
      "100000\n",
      "[[ 381  207  210  477]\n",
      " [ 526  911  142   72]\n",
      " [ 838  527 1290  425]\n",
      " [ 196  184  164  359]\n",
      " [ 526  377  120  425]]\n",
      "[[ 9900 10500  9309  9831]\n",
      " [11055 10895 10812 11321]\n",
      " [11353 11103 10164  9787]\n",
      " [10571 10664 10632  9638]\n",
      " [ 9628  9554 10036  9582]]\n",
      "100000\n",
      "[[381 207 210 477]\n",
      " [526 911 142  72]\n",
      " [838 527 425 281]\n",
      " [196 184 164 359]\n",
      " [526 377 120 425]]\n",
      "[[ 9900 10500  9309  9831]\n",
      " [11055 10895 10812 11321]\n",
      " [11353 11103 10164 10719]\n",
      " [10632  9638  9589  9894]\n",
      " [ 9628  9554 10036 10304]]\n"
     ]
    }
   ],
   "source": [
    "import numpy as np\n",
    "\n",
    "d = 64                           # dimension\n",
    "nb = 100000                      # database size\n",
    "nq = 10000                       # nb of queries\n",
    "np.random.seed(1234)             # make reproducible\n",
    "xb = np.random.random((nb, d)).astype('float32')\n",
    "xb[:, 0] += np.arange(nb) / 1000.\n",
    "xq = np.random.random((nq, d)).astype('float32')\n",
    "xq[:, 0] += np.arange(nq) / 1000.\n",
    "\n",
    "import faiss                     # make faiss available\n",
    "\n",
    "res = faiss.StandardGpuResources()  # use a single GPU\n",
    "\n",
    "## Using a flat index\n",
    "\n",
    "index_flat = faiss.IndexFlatL2(d)  # build a flat (CPU) index\n",
    "\n",
    "# make it a flat GPU index\n",
    "gpu_index_flat = faiss.index_cpu_to_gpu(res, 0, index_flat)\n",
    "\n",
    "gpu_index_flat.add(xb)         # add vectors to the index\n",
    "print(gpu_index_flat.ntotal)\n",
    "\n",
    "k = 4                          # we want to see 4 nearest neighbors\n",
    "D, I = gpu_index_flat.search(xq, k)  # actual search\n",
    "print(I[:5])                   # neighbors of the 5 first queries\n",
    "print(I[-5:])                  # neighbors of the 5 last queries\n",
    "\n",
    "\n",
    "## Using an IVF index\n",
    "\n",
    "nlist = 100\n",
    "quantizer = faiss.IndexFlatL2(d)  # the other index\n",
    "index_ivf = faiss.IndexIVFFlat(quantizer, d, nlist, faiss.METRIC_L2)\n",
    "# here we specify METRIC_L2, by default it performs inner-product search\n",
    "\n",
    "# make it an IVF GPU index\n",
    "gpu_index_ivf = faiss.index_cpu_to_gpu(res, 0, index_ivf)\n",
    "\n",
    "assert not gpu_index_ivf.is_trained\n",
    "gpu_index_ivf.train(xb)        # add vectors to the index\n",
    "assert gpu_index_ivf.is_trained\n",
    "\n",
    "gpu_index_ivf.add(xb)          # add vectors to the index\n",
    "print(gpu_index_ivf.ntotal)\n",
    "\n",
    "k = 4                          # we want to see 4 nearest neighbors\n",
    "D, I = gpu_index_ivf.search(xq, k)  # actual search\n",
    "print(I[:5])                   # neighbors of the 5 first queries\n",
    "print(I[-5:])                  # neighbors of the 5 last queries"
   ]
  },
  {
   "cell_type": "code",
   "execution_count": null,
   "id": "f83672ae-e2a8-4237-8cfd-9bd39aaf233d",
   "metadata": {},
   "outputs": [],
   "source": []
  }
 ],
 "metadata": {
  "kernelspec": {
   "display_name": "Python 3 (ipykernel)",
   "language": "python",
   "name": "python3"
  },
  "language_info": {
   "codemirror_mode": {
    "name": "ipython",
    "version": 3
   },
   "file_extension": ".py",
   "mimetype": "text/x-python",
   "name": "python",
   "nbconvert_exporter": "python",
   "pygments_lexer": "ipython3",
   "version": "3.11.8"
  }
 },
 "nbformat": 4,
 "nbformat_minor": 5
}

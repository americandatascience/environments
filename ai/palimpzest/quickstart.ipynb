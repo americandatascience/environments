{
 "cells": [
  {
   "cell_type": "markdown",
   "id": "dcbad58f-cb26-484c-87ee-640347159dc1",
   "metadata": {},
   "source": [
    "# Palimpzest Quickstart"
   ]
  },
  {
   "cell_type": "markdown",
   "id": "88462943-8324-413d-8269-ba83151d5029",
   "metadata": {},
   "source": [
    "## 1. Load API Key with .env"
   ]
  },
  {
   "cell_type": "code",
   "execution_count": 1,
   "id": "f7080b77-e34f-4e57-943f-17c71c867dab",
   "metadata": {},
   "outputs": [
    {
     "data": {
      "text/plain": [
       "True"
      ]
     },
     "execution_count": 1,
     "metadata": {},
     "output_type": "execute_result"
    }
   ],
   "source": [
    "from dotenv import load_dotenv\n",
    "\n",
    "# Your .env file should contain OPENAI_API_KEY=abc\n",
    "load_dotenv()"
   ]
  },
  {
   "cell_type": "markdown",
   "id": "ab79c8a5-f899-4ccd-b129-81f7701ebb0f",
   "metadata": {},
   "source": [
    "## 2. Download Sample Data"
   ]
  },
  {
   "cell_type": "code",
   "execution_count": 2,
   "id": "465d497f-f5c7-4ae0-9a53-e2eb8376ac86",
   "metadata": {},
   "outputs": [
    {
     "name": "stdout",
     "output_type": "stream",
     "text": [
      "Downloading...\n",
      "From: https://drive.google.com/uc?id=1fcTQ0ku9PfipzWv-bVugC4Dpg8qG-MJ1\n",
      "To: /home/jovyan/enron-eval-tiny.tar\n",
      "100%|██████████████████████████████████████| 23.2k/23.2k [00:00<00:00, 3.31MB/s]\n"
     ]
    }
   ],
   "source": [
    "# use gdown to download tar file\n",
    "!gdown 1fcTQ0ku9PfipzWv-bVugC4Dpg8qG-MJ1\n",
    "\n",
    "# open tar file\n",
    "!tar -xzf enron-eval-tiny.tar"
   ]
  },
  {
   "cell_type": "markdown",
   "id": "1342c5e0-0989-46d3-a853-acf98d7a9be9",
   "metadata": {},
   "source": [
    "## 3. Filter for Enron emails based on semantic text parameters"
   ]
  },
  {
   "cell_type": "code",
   "execution_count": 3,
   "id": "e64428c6-2542-4bef-b70a-77763295a702",
   "metadata": {},
   "outputs": [],
   "source": [
    "import palimpzest as pz\n",
    "\n",
    "pz.DataDirectory().registerLocalDirectory(\"testdata/enron-eval-tiny\", \"enron-tiny\")"
   ]
  },
  {
   "cell_type": "code",
   "execution_count": 4,
   "id": "9c1a8d26-c930-4c1d-8832-0ba3019f0fc4",
   "metadata": {},
   "outputs": [
    {
     "name": "stdout",
     "output_type": "stream",
     "text": [
      "--------------------------------------------\n",
      "Sentinel Plan 1:\n",
      " 0. MarshalAndScanDataOp -> File \n",
      "\n",
      " 1. File -> InduceFromCandidateOp -> TextFile \n",
      "    Using hardcoded function\n",
      "    (contents,filena...) -> (contents,filena...)\n",
      "\n",
      " 2. TextFile -> InduceFromCandidateOp -> Email \n",
      "    Using Model.GPT_4\n",
      "    Token budget: 1.0\n",
      "    Query strategy: QueryStrategy.BONDED_WITH_FALLBACK\n",
      "    (contents,filena...) -> (contents,filena...)\n",
      "\n",
      " 3. Email -> FilterCandidateOp -> Email \n",
      "    Using Model.GPT_4\n",
      "    Filter: \"The email is not quoting from a news article or an article written by someone outside of Enron\"\n",
      "    (contents,filena...) -> (contents,filena...)\n",
      "\n",
      " 4. Email -> FilterCandidateOp -> Email \n",
      "    Using Model.GPT_4\n",
      "    Filter: \"The email refers to a fraudulent scheme (i.e., \"Raptor\", \"Deathstar\", \"Chewco\", and/or \"Fat Boy\")\"\n",
      "    (contents,filena...) -> (contents,filena...)\n",
      "\n",
      "---\n",
      "\n",
      "Sentinel Plan 0:\n",
      " 0. MarshalAndScanDataOp -> File \n",
      "\n",
      " 1. File -> InduceFromCandidateOp -> TextFile \n",
      "    Using hardcoded function\n",
      "    (contents,filena...) -> (contents,filena...)\n",
      "\n",
      " 2. TextFile -> InduceFromCandidateOp -> Email \n",
      "    Using Model.GPT_3_5\n",
      "    Token budget: 1.0\n",
      "    Query strategy: QueryStrategy.BONDED_WITH_FALLBACK\n",
      "    (contents,filena...) -> (contents,filena...)\n",
      "\n",
      " 3. Email -> FilterCandidateOp -> Email \n",
      "    Using Model.GPT_3_5\n",
      "    Filter: \"The email is not quoting from a news article or an article written by someone outside of Enron\"\n",
      "    (contents,filena...) -> (contents,filena...)\n",
      "\n",
      " 4. Email -> FilterCandidateOp -> Email \n",
      "    Using Model.GPT_3_5\n",
      "    Filter: \"The email refers to a fraudulent scheme (i.e., \"Raptor\", \"Deathstar\", \"Chewco\", and/or \"Fat Boy\")\"\n",
      "    (contents,filena...) -> (contents,filena...)\n",
      "\n",
      "---\n",
      "Generating -- gpt-3.5-turbo-0125 -- Token budget: 1.0\n",
      "Generating -- gpt-4-0125-preview -- Token budget: 1.0\n",
      "{\n",
      "  \"sender\": \"sherron.watkins@enron.com\",\n",
      "  \"subject\": \"RE: portrac\"\n",
      "}\n",
      "Generating -- gpt-3.5-turbo-0125 -- Token budget: 1.0\n",
      "TRUE\n",
      "Generating -- gpt-3.5-turbo-0125 -- Token budget: 1.0\n",
      "FALSE\n",
      "Generating -- gpt-3.5-turbo-0125 -- Token budget: 1.0\n",
      "{\n",
      "  \"sender\": \"david.port@enron.com\",\n",
      "  \"subject\": \"RE: NewPower\"\n",
      "}\n",
      "Generating -- gpt-3.5-turbo-0125 -- Token budget: 1.0\n",
      "TRUE\n",
      "Generating -- gpt-3.5-turbo-0125 -- Token budget: 1.0\n",
      "FALSE\n",
      "```json\n",
      "{\n",
      "  \"sender\": \"sherron.watkins@enron.com\",\n",
      "  \"subject\": \"RE: portrac\"\n",
      "}\n",
      "```\n",
      "Generating -- gpt-4-0125-preview -- Token budget: 1.0\n",
      "TRUE\n",
      "Generating -- gpt-4-0125-preview -- Token budget: 1.0\n",
      "TRUE\n",
      "Generating -- gpt-4-0125-preview -- Token budget: 1.0\n",
      "```json\n",
      "{\n",
      "  \"sender\": \"david.port@enron.com\",\n",
      "  \"subject\": \"RE: NewPower\"\n",
      "}\n",
      "```\n",
      "Generating -- gpt-4-0125-preview -- Token budget: 1.0\n",
      "TRUE\n",
      "Generating -- gpt-4-0125-preview -- Token budget: 1.0\n",
      "TRUE\n",
      "LOGICAL PLANS: 2\n",
      "INITIAL PLANS: 72\n",
      "DEDUP PLANS: 47\n",
      "PARETO PLANS: 5\n",
      "BASELINE PLANS: 0\n",
      "----------------------\n",
      "Final Plan:\n",
      " 0. MarshalAndScanDataOp -> File \n",
      "\n",
      " 1. File -> InduceFromCandidateOp -> TextFile \n",
      "    Using hardcoded function\n",
      "    (contents,filena...) -> (contents,filena...)\n",
      "\n",
      " 2. TextFile -> InduceFromCandidateOp -> Email \n",
      "    Using Model.GPT_3_5\n",
      "    Token budget: 1.0\n",
      "    Query strategy: QueryStrategy.BONDED_WITH_FALLBACK\n",
      "    (contents,filena...) -> (contents,filena...)\n",
      "\n",
      " 3. Email -> FilterCandidateOp -> Email \n",
      "    Using Model.GPT_3_5\n",
      "    Filter: \"The email is not quoting from a news article or an article written by someone outside of Enron\"\n",
      "    (contents,filena...) -> (contents,filena...)\n",
      "\n",
      " 4. Email -> FilterCandidateOp -> Email \n",
      "    Using Model.GPT_4\n",
      "    Filter: \"The email refers to a fraudulent scheme (i.e., \"Raptor\", \"Deathstar\", \"Chewco\", and/or \"Fat Boy\")\"\n",
      "    (contents,filena...) -> (contents,filena...)\n",
      "\n",
      "---\n",
      "Generating -- gpt-3.5-turbo-0125 -- Token budget: 1.0\n",
      "{\n",
      "  \"sender\": \"vkaminski@aol.com\",\n",
      "  \"subject\": \"Fwd: FYI\"\n",
      "}\n",
      "Generating -- gpt-3.5-turbo-0125 -- Token budget: 1.0\n",
      "FALSE\n",
      "Generating -- gpt-3.5-turbo-0125 -- Token budget: 1.0\n",
      "{\n",
      "  \"sender\": \"sarah.palmer@enron.com\",\n",
      "  \"subject\": \"Enron Mentions -- 01/18/02\"\n",
      "}\n",
      "Generating -- gpt-3.5-turbo-0125 -- Token budget: 1.0\n",
      "FALSE\n",
      "Generating -- gpt-3.5-turbo-0125 -- Token budget: 1.0\n",
      "{\n",
      "  \"sender\": \"gary@cioclub.com\",\n",
      "  \"subject\": \"Information Security Executive -092501\"\n",
      "}\n",
      "Generating -- gpt-3.5-turbo-0125 -- Token budget: 1.0\n",
      "TRUE\n",
      "Generating -- gpt-4-0125-preview -- Token budget: 1.0\n",
      "FALSE\n",
      "Generating -- gpt-3.5-turbo-0125 -- Token budget: 1.0\n",
      "{\n",
      "  \"sender\": \"travis.mccullough@enron.com\",\n",
      "  \"subject\": \"Redraft of the Exclusivity Agreement\"\n",
      "}\n",
      "Generating -- gpt-3.5-turbo-0125 -- Token budget: 1.0\n",
      "TRUE\n",
      "Generating -- gpt-4-0125-preview -- Token budget: 1.0\n",
      "TRUE\n"
     ]
    }
   ],
   "source": [
    "import palimpzest as pz\n",
    "\n",
    "class Email(pz.TextFile):\n",
    "  \"\"\"Represents an email, which can subclass a text file\"\"\"\n",
    "  sender = pz.StringField(desc=\"The email address of the sender\", required=True)\n",
    "  subject = pz.StringField(desc=\"The subject of the email\", required=True)\n",
    "\n",
    "# define logical plan\n",
    "emails = pz.Dataset(source=\"enron-tiny\", schema=Email) # invokes a convert operation\n",
    "emails = emails.filterByStr(\"The email is not quoting from a news article or an article written by someone outside of Enron\")\n",
    "emails = emails.filterByStr(\"The email refers to a fraudulent scheme (i.e., \\\"Raptor\\\", \\\"Deathstar\\\", \\\"Chewco\\\", and/or \\\"Fat Boy\\\")\")\n",
    "\n",
    "# user specified policy\n",
    "policy = pz.MaxQuality()\n",
    "\n",
    "# execute the plan\n",
    "results, plan = pz.Execute(emails, policy, num_samples=2, nocache=True, verbose=True)\n"
   ]
  },
  {
   "cell_type": "code",
   "execution_count": null,
   "id": "fd4530c8-349e-4d79-9bc9-de70e5c36f70",
   "metadata": {},
   "outputs": [],
   "source": []
  }
 ],
 "metadata": {
  "kernelspec": {
   "display_name": "Python 3 (ipykernel)",
   "language": "python",
   "name": "python3"
  },
  "language_info": {
   "codemirror_mode": {
    "name": "ipython",
    "version": 3
   },
   "file_extension": ".py",
   "mimetype": "text/x-python",
   "name": "python",
   "nbconvert_exporter": "python",
   "pygments_lexer": "ipython3",
   "version": "3.11.6"
  }
 },
 "nbformat": 4,
 "nbformat_minor": 5
}

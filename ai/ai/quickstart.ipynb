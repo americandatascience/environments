{
 "cells": [
  {
   "cell_type": "code",
   "execution_count": null,
   "id": "aef71e7b",
   "metadata": {},
   "outputs": [],
   "source": [
    "print('Welcome to the quickstart notebook!')"
   ]
  }
 ],
 "metadata": {},
 "nbformat": 4,
 "nbformat_minor": 5
}

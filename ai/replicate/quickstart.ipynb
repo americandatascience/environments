{
 "cells": [
  {
   "cell_type": "markdown",
   "id": "46e07b06-7463-4c51-8816-5138f5a48688",
   "metadata": {},
   "source": [
    "# Replicate Quickstart"
   ]
  },
  {
   "cell_type": "markdown",
   "id": "c3847a02-815e-4fde-ace4-24acc0524364",
   "metadata": {},
   "source": [
    "## 1. Load API Key with .env"
   ]
  },
  {
   "cell_type": "code",
   "execution_count": null,
   "id": "fe999a26-38b6-430c-852f-4b2c91f1c10b",
   "metadata": {},
   "outputs": [],
   "source": [
    "from dotenv import load_dotenv\n",
    "\n",
    "# Your .env file should contain REPLICATE_API_TOKEN=abc\n",
    "load_dotenv()"
   ]
  },
  {
   "cell_type": "markdown",
   "id": "5a24f9da-7129-4c5b-ac27-9f1792b333c3",
   "metadata": {},
   "source": [
    "## 2. Test Replicate's AI API"
   ]
  },
  {
   "cell_type": "code",
   "execution_count": null,
   "id": "5acd3a25-06f5-43ca-b2b4-c46ce9cb0fe2",
   "metadata": {},
   "outputs": [],
   "source": [
    "import os\n",
    "import replicate\n",
    "\n",
    "class ReplicateAPI:\n",
    "        \n",
    "    def message(self, message):\n",
    "        \"\"\"\n",
    "        Function to generate a response using llama3 70B model.\n",
    "        \"\"\"\n",
    "        iterator = replicate.run(\n",
    "            \"meta/meta-llama-3-70b-instruct\",\n",
    "            input={\"prompt\": message},\n",
    "        )\n",
    "        response = \"\".join([text for text in iterator])\n",
    "        return response\n"
   ]
  },
  {
   "cell_type": "code",
   "execution_count": null,
   "id": "23d1a2f6-c0bd-4cc2-a500-e9121d5348dd",
   "metadata": {},
   "outputs": [],
   "source": [
    "replicate_api = ReplicateAPI()\n",
    "\n",
    "messages=\"What are you?\"\n",
    "response = replicate_api.message(messages)"
   ]
  },
  {
   "cell_type": "code",
   "execution_count": null,
   "id": "20e25e02-7b25-4426-a2d9-aeeb1ad3c109",
   "metadata": {},
   "outputs": [],
   "source": [
    "print(response)"
   ]
  },
  {
   "cell_type": "markdown",
   "id": "aaa01708-26b5-434c-bc3b-5debf204c6ea",
   "metadata": {},
   "source": [
    "## 3. Deploy an app to port forward and share publically"
   ]
  },
  {
   "cell_type": "code",
   "execution_count": null,
   "id": "f301fcbf-8ad1-4858-9e8f-9d5cd3e095ad",
   "metadata": {},
   "outputs": [],
   "source": [
    "import gradio as gr\n",
    "\n",
    "gr.close_all()\n",
    "\n",
    "iface = gr.Interface(\n",
    "    fn=replicate_api.message,\n",
    "    inputs=gr.Textbox(lines=2, placeholder=\"Type your message here...\"),\n",
    "    outputs=\"markdown\",\n",
    "    title=\"Chat with Anthropic's llama3 70B model\",\n",
    "    description=\"This is a simple chat app using llama3 70B online model.\",\n",
    ")\n",
    "\n",
    "# Run the Gradio app on localhost:5000 or whichever port you specified\n",
    "iface.launch(server_port=5000, inline=False, quiet=True)\n",
    "\n",
    "print(f\"See your app deployed publically with the port you're securely forwarding: {os.environ.get('PORT_FORWARD_URL')}\")"
   ]
  },
  {
   "cell_type": "code",
   "execution_count": null,
   "id": "180bfac0-859d-4fa9-8551-482ae5a98c29",
   "metadata": {},
   "outputs": [],
   "source": []
  }
 ],
 "metadata": {
  "kernelspec": {
   "display_name": "Python 3 (ipykernel)",
   "language": "python",
   "name": "python3"
  },
  "language_info": {
   "codemirror_mode": {
    "name": "ipython",
    "version": 3
   },
   "file_extension": ".py",
   "mimetype": "text/x-python",
   "name": "python",
   "nbconvert_exporter": "python",
   "pygments_lexer": "ipython3",
   "version": "3.11.8"
  }
 },
 "nbformat": 4,
 "nbformat_minor": 5
}
